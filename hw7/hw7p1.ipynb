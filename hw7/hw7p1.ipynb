{
 "cells": [
  {
   "cell_type": "markdown",
   "metadata": {},
   "source": [
    "## Homework 7, Problem 1 on Visualization of high-dimensional neural activity using PCA\n",
    "\n",
    "ECE C143A/C243A, Spring Quarter 2018, Prof. J.C. Kao, TAs T. Monsoor, X. Jiang and X. Yang."
   ]
  },
  {
   "cell_type": "markdown",
   "metadata": {},
   "source": [
    "Download the `hw7_data.mat` from CCLE. \n",
    "When you load the .mat file, you will find the following variables:\n",
    "\n",
    "`Xplan`: a $728\\times 97$ matrix of real data, where each row is a spike count vector across 97 simultaneously-recorded neurons(The neural data have been generously provided by the laboratory of Prof. Krishna Shenoy at Stanford University. The data are to be used exclusively for educational purposes in this course.).  \n",
    "This is exactly the same data analyzed in discrete classification, but we are providing you here with the spike counts rather than the raw spike trains.  \n",
    "Here, the spike counts are taken in a 200~ms bin during the plan period.\n",
    "There are 91 trials for each of 8 reaching angles, for a total of 728 trials.\n",
    "Trials 1 to 91 correspond to reaching angle 1, trials 92 to 182 correspond to reach angle 2, etc.\n",
    "\n",
    "`Xsim`: a $8\\times 2$ matrix of simulated data, where each row is a data point."
   ]
  },
  {
   "cell_type": "markdown",
   "metadata": {},
   "source": [
    "(Total : 30 points) \n",
    "\n",
    "In Homework \\#4, we classified neural activity from 97 neurons across 8 different reaching angles with greater than 90% accuracy.  This indicates that there were 8 well-separated clusters of data points in 97-dimensional space.  However, we did not attempt to visualize these clusters due to the high dimensionality of the data.  Here, we will apply PCA to these same data ({\\tt Xplan}) to gain some intuition about why we were able to classify so well in Homework \\#4.  The data points are $x_k\\in\\mathbf{R}^{N}$ ($k=1,...,K$), where $N=97$ is the data dimensionality and $K=728$ is the number of data points. "
   ]
  },
  {
   "cell_type": "code",
   "execution_count": null,
   "metadata": {},
   "outputs": [],
   "source": [
    "import numpy as np\n",
    "import matplotlib as matplotlib\n",
    "import matplotlib.pyplot as plt\n",
    "from mpl_toolkits.mplot3d import Axes3D\n",
    "\n",
    "import scipy.special\n",
    "import scipy.io as sio\n",
    "import math\n",
    "\n",
    "%matplotlib inline\n",
    "# Reloading any code written in external .py files.\n",
    "%load_ext autoreload\n",
    "%autoreload 2\n",
    "data = sio.loadmat('hw7_data.mat') # load the .mat file.\n",
    "Xplan = data['Xplan']\n",
    "Xsim = data['Xsim']"
   ]
  },
  {
   "cell_type": "markdown",
   "metadata": {},
   "source": [
    "### (a) PCA and variance captured (10 points)\n",
    "Perform PCA on the data, and then plot the square-rooted eigenvalue spectrum (i.e., take the square root of the eigenvalues and plot them in descending order, with dimension on the x-axis).  What percentage of the overall variance is captured by the top 3 principal components?"
   ]
  },
  {
   "cell_type": "code",
   "execution_count": null,
   "metadata": {},
   "outputs": [],
   "source": [
    "#====================================================#\n",
    "# YOUR CODE HERE: \n",
    "#   Perform PCA and plot the square-rooted eigenvalue spectrum\n",
    "#====================================================#\n",
    "\n",
    "#====================================================#\n",
    "# END YOUR CODE \n",
    "#====================================================#\n"
   ]
  },
  {
   "cell_type": "markdown",
   "metadata": {},
   "source": [
    "Answer:\n"
   ]
  },
  {
   "cell_type": "markdown",
   "metadata": {},
   "source": [
    "### (b) (10 points)\n",
    "For the purposes of visualization, we'll consider the PC space defined by the top $D=3$ eigenvectors.\n",
    "Project the data into the three-dimensional PC space.\n",
    "Plot the projected points in Python using the imported `Axes3D`(You can also google other methods to plot in 3D), and color each dot appropriately according to reaching angle (there should be a total of 728 dots).\n",
    "Choose a 3D view in which the clusters are well-separated.   \n",
    "\n",
    "(The first $91$ rows correspond to data from reach direction $1$, the next $91$ rows correspond to data from reach direction $2$, and so forth.)\n",
    "\n",
    "Hint: The way we do the 3D plot is to first call: \n",
    "\n",
    "`fig = plt.figure(figsize=(7,7))\n",
    "ax = fig.add_subplot(111, projection='3d')`\n",
    "\n",
    "After doing a scatter plot of the points by calling `ax.scatter`, we find a good projection by calling `ax.view_init(elev=15, azim=60)`\n"
   ]
  },
  {
   "cell_type": "code",
   "execution_count": null,
   "metadata": {},
   "outputs": [],
   "source": [
    "#====================================================#\n",
    "# YOUR CODE HERE: \n",
    "#   Plot reach data projected into three-dimensional PC space\n",
    "#====================================================#\n",
    "\n",
    "#====================================================#\n",
    "# END YOUR CODE \n",
    "#====================================================#"
   ]
  },
  {
   "cell_type": "markdown",
   "metadata": {},
   "source": [
    "### (c) (10 points) \n",
    "Define a matrix $U_D\\in\\mathbf{R}^{N\\times D}$ containing the top three eigenvectors (i.e., PC directions), where $U_D(n,d)$ indicates the contribution of the `n` th neuron to the `d` th principal component.  Show the values in $U_D$ by calling `imshow`. (Note: Also call `colorbar` to show the scale.)  Are there are any obvious groupings among the neurons in each column of $U_D$?\n",
    "\n"
   ]
  },
  {
   "cell_type": "code",
   "execution_count": null,
   "metadata": {},
   "outputs": [],
   "source": [
    "#====================================================#\n",
    "# YOUR CODE HERE: \n",
    "#   Plot Matrix U_D of top three principal component directions using imshow\n",
    "#====================================================#\n",
    "\n",
    "#====================================================#\n",
    "# END YOUR CODE \n",
    "#====================================================#"
   ]
  },
  {
   "cell_type": "markdown",
   "metadata": {},
   "source": [
    "Answer:\n"
   ]
  }
 ],
 "metadata": {
  "kernelspec": {
   "display_name": "Python 3",
   "language": "python",
   "name": "python3"
  },
  "language_info": {
   "codemirror_mode": {
    "name": "ipython",
    "version": 3
   },
   "file_extension": ".py",
   "mimetype": "text/x-python",
   "name": "python",
   "nbconvert_exporter": "python",
   "pygments_lexer": "ipython3",
   "version": "3.6.4"
  }
 },
 "nbformat": 4,
 "nbformat_minor": 2
}
