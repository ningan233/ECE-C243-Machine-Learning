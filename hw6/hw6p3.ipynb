{
 "cells": [
  {
   "cell_type": "markdown",
   "metadata": {},
   "source": [
    "## Homework 6, Problem 3 on Wiener filter\n",
    "\n",
    "ECE C143A/C243A, Spring Quarter 2018, Prof. J.C. Kao, TAs T. Monsoor, X. Jiang and X. Yang."
   ]
  },
  {
   "cell_type": "markdown",
   "metadata": {},
   "source": [
    "Total: 15 points. In this notebook, you will implement an optimal linear estimator decoder."
   ]
  },
  {
   "cell_type": "code",
   "execution_count": null,
   "metadata": {},
   "outputs": [],
   "source": [
    "import numpy as np\n",
    "import matplotlib.pyplot as plt\n",
    "import scipy.special\n",
    "import scipy.io as sio\n",
    "import math\n",
    "import nsp as nsp\n",
    "# Load matplotlib images inline\n",
    "%matplotlib inline\n",
    "# Reloading any code written in external .py files.\n",
    "%load_ext autoreload\n",
    "%autoreload 2\n",
    "data = sio.loadmat('JR_2015-12-04_truncated2.mat') # load the .mat file.\n",
    "R = data['R'][0,:]"
   ]
  },
  {
   "cell_type": "markdown",
   "metadata": {},
   "source": [
    "### (a) (4 points) Preparing training data for a Wiener filter.  [Code solution provided; please understand it and answer the question.]"
   ]
  },
  {
   "cell_type": "markdown",
   "metadata": {},
   "source": [
    "Now that we’ve built an optimal linear estimator, we’ll extend it to incorporate history. We will train a Wiener filter, again using just the first 400 trials of the R-struct. We will use 100 ms worth of history in our Wiener filter. As each bin is 25 ms long, this corresponds to using data up to and including 4 bins in the past, i.e. $P=3$. Make the large matrix $Y_W$ discussed in Lecture. To be clear, we are talking about the matrix:\n",
    "\\begin{bmatrix}\n",
    "    y_{P+1}       & y_{P+2} & y_{P+3} & \\dots & y_{K} \\\\\n",
    "    y_{P}       & y_{P+1} & y_{P+2} & \\dots & y_{K-1} \\\\\n",
    "    \\dots \\\\\n",
    "    y_{1}       & y_{2} & y_{3} & \\dots & y_{K-P}\\\\\n",
    "    1       & 1 & 1 & \\dots & 1\\\\\n",
    "\\end{bmatrix}\n",
    "Calculate this matrix and output its dimension."
   ]
  },
  {
   "cell_type": "code",
   "execution_count": null,
   "metadata": {},
   "outputs": [],
   "source": [
    "#====================================================#\n",
    "# YOUR CODE HERE:\n",
    "#   Create the Y_W matrix and print its dimensions.\n",
    "#====================================================#\n",
    "dt = 25\n",
    "train_num = 400\n",
    "Y =scipy.sparse.hstack(R[0:train_num]['spikeRaster'])\n",
    "X =scipy.sparse.hstack(R[0:train_num]['cursorPos'])\n",
    "X= scipy.sparse.csc_matrix(X)\n",
    "Y_bin = nsp.bin(Y, dt,'sum')\n",
    "\n",
    "X_bin = nsp.bin(X, dt,'first')\n",
    "X_bin = np.diff(X_bin[0:2,:])/dt*1000\n",
    "\n",
    "X_small_bin = np.matrix(X_bin[:,3:],dtype=float)\n",
    "last_index = np.size(X_bin,1)\n",
    "Y1= np.matrix(Y_bin[:,3:],dtype= float)\n",
    "Y2 =np.matrix(Y_bin[:,2:-1],dtype= float)\n",
    "Y3 =np.matrix(Y_bin[:,1:-2],dtype= float)\n",
    "Y4 =np.matrix(Y_bin[:,0:-3],dtype= float)\n",
    "Y_large = np.vstack((Y1,Y2,Y3,Y4))\n",
    "\n",
    "Y_w_bin = np.vstack((Y_large,np.ones(np.size(Y_large,1))))\n",
    "\n",
    "print(\"The dimension for the large matrix\",np.size(Y_w_bin,0),np.size(Y_w_bin,1))\n",
    "#====================================================#\n",
    "# END YOUR CODE\n",
    "#====================================================#   "
   ]
  },
  {
   "cell_type": "markdown",
   "metadata": {},
   "source": [
    "Question: What are the dimensions of $Y_W$?"
   ]
  },
  {
   "cell_type": "markdown",
   "metadata": {},
   "source": [
    "Answer: "
   ]
  },
  {
   "cell_type": "markdown",
   "metadata": {},
   "source": [
    "### (b) (7 points)  Fit a Wiener filter and decode activity."
   ]
  },
  {
   "cell_type": "markdown",
   "metadata": {},
   "source": [
    "Fit the Wiener filter using the data matrix you generated in part(a). Plot, as you did in question 2(g), the decoded trajectories for each test trial. (Hint: to decode the first 3 velocities of trial i at times 25 ms, 50 ms, and 75 ms, since 100 ms have not yet occurred in the trial, you will have to use the last bins of spiking activity in trial $i−1$.)\n"
   ]
  },
  {
   "cell_type": "code",
   "execution_count": null,
   "metadata": {},
   "outputs": [],
   "source": [
    "#====================================================#\n",
    "# YOUR CODE HERE:\n",
    "#   Fit the Wiener filter and decode the trajectories for\n",
    "#   each test trial.\n",
    "#====================================================#\n",
    "pass\n",
    "#====================================================#\n",
    "# END YOUR CODE\n",
    "#====================================================#   "
   ]
  },
  {
   "cell_type": "markdown",
   "metadata": {},
   "source": [
    "### (c) (4 points) Calculate the mean-square error for the Wiener filter."
   ]
  },
  {
   "cell_type": "markdown",
   "metadata": {},
   "source": [
    "What is the average mean-square error in position per trial? Did the Wiener filter perform better or worse than the optimal linear estimator?"
   ]
  },
  {
   "cell_type": "code",
   "execution_count": null,
   "metadata": {},
   "outputs": [],
   "source": [
    "#====================================================#\n",
    "# YOUR CODE HERE:\n",
    "#   Calculate the mean-squared error between the decoded\n",
    "#   hand position and the true hand position.  Average\n",
    "#   the squared errors across time; then average the squared\n",
    "#   errors across trials.\n",
    "#====================================================#\n",
    "pass\n",
    "#====================================================#\n",
    "# END YOUR CODE\n",
    "#====================================================#  "
   ]
  },
  {
   "cell_type": "markdown",
   "metadata": {},
   "source": [
    "Question: Does the WF do better or worse than the OLE?"
   ]
  },
  {
   "cell_type": "markdown",
   "metadata": {},
   "source": [
    "Answer:"
   ]
  }
 ],
 "metadata": {
  "kernelspec": {
   "display_name": "Python 3",
   "language": "python",
   "name": "python3"
  },
  "language_info": {
   "codemirror_mode": {
    "name": "ipython",
    "version": 3
   },
   "file_extension": ".py",
   "mimetype": "text/x-python",
   "name": "python",
   "nbconvert_exporter": "python",
   "pygments_lexer": "ipython3",
   "version": "3.6.4"
  }
 },
 "nbformat": 4,
 "nbformat_minor": 2
}
