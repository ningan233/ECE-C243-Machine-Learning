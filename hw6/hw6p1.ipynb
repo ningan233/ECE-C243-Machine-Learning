{
 "cells": [
  {
   "cell_type": "markdown",
   "metadata": {},
   "source": [
    "## Homework 6, Problem 1 on reaching data and neural data\n",
    "\n",
    "ECE C143A/C243A, Spring Quarter 2018, Prof. J.C. Kao, TAs T. Monsoor, X. Jiang and X. Yang."
   ]
  },
  {
   "cell_type": "markdown",
   "metadata": {},
   "source": [
    "Total: 20 points\n",
    "\n",
    "Download the dataset `JR_2015-12-04_truncated2.mat` from CCLE.\n",
    "\n",
    "This data structure contains simultaneous reaching (kinematic) data and neural data.\n",
    "A large part of this question will be getting acquainted with this data.\n",
    "\n",
    "Loading the downloaded file will drop a variable called `R`, in your Python workspace.\n",
    "We will call this variable the R-dict (or sometimes R-struct).\n",
    "\n",
    "It is an array of dictionaries, with each dictionary in the array corresponding to one trial performed by Monkey J. In this data, Monkey J is performing a reaching task in which he acquires a center target, and then a peripheral target. After acquiring the peripheral target, he comes back to acquire the center target, and then acquires another peripheral target. This task is called a \"center-out-and-back\" task as the monkey continuously reaches from the center to a peripheral target, and then back to the center."
   ]
  },
  {
   "cell_type": "markdown",
   "metadata": {},
   "source": [
    "This assignment incorporates the `scipy` package.  If you do not have it installed, you can install it by running:\n",
    "\n",
    "`pip install scipy`\n",
    "\n",
    "You may also install a package compiler for scientific computing, like `anaconda`: https://www.anaconda.com/download/"
   ]
  },
  {
   "cell_type": "code",
   "execution_count": null,
   "metadata": {},
   "outputs": [],
   "source": [
    "import numpy as np\n",
    "import matplotlib.pyplot as plt\n",
    "import scipy.special\n",
    "import scipy.io as sio\n",
    "import math\n",
    "import nsp as nsp\n",
    "# Load matplotlib images inline\n",
    "%matplotlib inline\n",
    "# Reloading any code written in external .py files.\n",
    "%load_ext autoreload\n",
    "%autoreload 2\n",
    "data = sio.loadmat('JR_2015-12-04_truncated2.mat') # load the .mat file.\n",
    "R = data['R'][0,:]"
   ]
  },
  {
   "cell_type": "markdown",
   "metadata": {},
   "source": [
    "### (a) (1 point) How many trials?"
   ]
  },
  {
   "cell_type": "markdown",
   "metadata": {},
   "source": [
    "How many trials were performed by Monkey J in this R-struct?"
   ]
  },
  {
   "cell_type": "code",
   "execution_count": null,
   "metadata": {},
   "outputs": [],
   "source": [
    "#====================================================#\n",
    "# YOUR CODE HERE:\n",
    "#   Calculate the number of trials in the R-dict\n",
    "#====================================================#\n",
    "pass\n",
    "#====================================================#\n",
    "# END YOUR CODE\n",
    "#====================================================#"
   ]
  },
  {
   "cell_type": "markdown",
   "metadata": {},
   "source": [
    "Answer: "
   ]
  },
  {
   "cell_type": "markdown",
   "metadata": {},
   "source": [
    "### (b) (2 point) Where are the targets?"
   ]
  },
  {
   "cell_type": "markdown",
   "metadata": {},
   "source": [
    "`R[i]['target']` is the target that Monkey J reached to on trial `i`.  How many unique targets are there?  Please provide a 2D plot of all the target locations.  Ignore the 3rd dimension ($z$-location) which is by default set at $-70$ (i.e., it was not used). The units of `R[0,i]['target']` are in millimeters.\n"
   ]
  },
  {
   "cell_type": "code",
   "execution_count": null,
   "metadata": {},
   "outputs": [],
   "source": [
    "plt.figure(figsize=(7,7))\n",
    "#====================================================#\n",
    "# YOUR CODE HERE:\n",
    "#   Generate 2D plot of all the target locations \n",
    "#====================================================#\n",
    "pass\n",
    "#====================================================#\n",
    "# END YOUR CODE\n",
    "#====================================================#\n",
    "plt.show()"
   ]
  },
  {
   "cell_type": "markdown",
   "metadata": {},
   "source": [
    "Question: How many unique targets(including the center target) are there?"
   ]
  },
  {
   "cell_type": "markdown",
   "metadata": {},
   "source": [
    "Answer: "
   ]
  },
  {
   "cell_type": "markdown",
   "metadata": {},
   "source": [
    "### (c) (1 point) How many failures?"
   ]
  },
  {
   "cell_type": "markdown",
   "metadata": {},
   "source": [
    "`R[i]['isSuccessful']` indicates if Monkey J successfully acquired the target on trial $i$.  This means that he reaches to the target and holds his position within a $4$cm by $4$cm box centered around the target for $500$ms.  How many failures are there in this R-struct? \n",
    "\n",
    "Hint: `isSuccessful` attribute has the dtype of uint8. Be careful about data types; in general it's always good practice to perform operations on same data types.  If the number of trials is encoded as an `int`, you should cast the `isSuccessful` variable to be an int. You may achieve this by calling `isSuccessful = np.asarray(R['isSuccessful'], dtype=int)`."
   ]
  },
  {
   "cell_type": "code",
   "execution_count": null,
   "metadata": {},
   "outputs": [],
   "source": [
    "#====================================================#\n",
    "# YOUR CODE HERE:\n",
    "#   Calculate the number of failures in the R-dict\n",
    "#====================================================#\n",
    "pass\n",
    "#====================================================#\n",
    "# END YOUR CODE\n",
    "#====================================================#"
   ]
  },
  {
   "cell_type": "markdown",
   "metadata": {},
   "source": [
    "Question: How many failures are there in this R-struct?"
   ]
  },
  {
   "cell_type": "markdown",
   "metadata": {},
   "source": [
    "Answer: "
   ]
  },
  {
   "cell_type": "markdown",
   "metadata": {},
   "source": [
    "### (d) (2 points) Kinematic sampling. [Code is provided; but you still need to analyze the output and answer the question]"
   ]
  },
  {
   "cell_type": "markdown",
   "metadata": {},
   "source": [
    "`R[i]['cursorPos']` is a $3 \\times T_i$ matrix that contains the monkey's hand position over time on trial $i$, where $T_i$ is the length of trial $i$ in milliseconds. \n",
    "\n",
    "* The 1st row is the $x$ position and the 2nd row is the $y$ position of Monkey J.\n",
    "* The units are in millimeters.\n",
    "* Ignore the 3rd row -- which is $z$ position (set to $-70$ mm by default in this data).\n",
    "* Each column represents $1$ ms.  That is, if $T_i = 1032$, this indicates that the trial lasted for $1032$ milliseconds. Note that `R[i]['cursorPos'][:,-1]` and `R[i+1]['cursorPos'][:,0]` are also separated by $1$ ms, so that the R-struct contains millisecond resolution data and no segments of time are unobserved.\n",
    "* The kinematics in `R[0,i]['cursorPos']` are sampled from a system called 'Polaris' that tracks a bead taped on the monkey's finger.\n",
    "\t\t\n",
    "Observe the values of `R[i]['cursorPos']`.\n",
    "Does the ''Polaris'' system sample the monkey's kinematics at $1$ ms resolution (i.e., $1000$ Hz)?\n",
    "If not, approximately at what frequency does Polaris sample the kinematics?        "
   ]
  },
  {
   "cell_type": "code",
   "execution_count": null,
   "metadata": {},
   "outputs": [],
   "source": [
    "#set printoption so that you can view the whole array by call print \n",
    "np.set_printoptions(threshold=np.nan)\n",
    "#====================================================#\n",
    "# YOUR CODE HERE:\n",
    "#   Analysis the frequency of sampling\n",
    "#====================================================#\n",
    "i=1\n",
    "print(R[i]['cursorPos'][:,0:200]) \n",
    "# we just print 0:200 because there are too many elements, 200 is enough to estimate the frequency\n",
    "\n",
    "#====================================================#\n",
    "# END YOUR CODE\n",
    "#====================================================#"
   ]
  },
  {
   "cell_type": "markdown",
   "metadata": {},
   "source": [
    "Question: Does the 'Polaris' system sample the monkey's kinematics at  1  ms resolution (i.e., 1000Hz)? If not, approximately at what frequency does Polaris sample the kinematics?"
   ]
  },
  {
   "cell_type": "markdown",
   "metadata": {},
   "source": [
    "Answer: "
   ]
  },
  {
   "cell_type": "markdown",
   "metadata": {},
   "source": [
    "### (e) (1 points) Reach trajectories."
   ]
  },
  {
   "cell_type": "markdown",
   "metadata": {},
   "source": [
    "Present a 2D plot showing Monkey J's hand position across the entire R-dict. Does it look like the plot of a center-out-and-back task?"
   ]
  },
  {
   "cell_type": "code",
   "execution_count": null,
   "metadata": {},
   "outputs": [],
   "source": [
    "#====================================================#\n",
    "# YOUR CODE HERE:\n",
    "#   Generate 2D plot of hand position\n",
    "#====================================================#\n",
    "pass\n",
    "#====================================================#\n",
    "# END YOUR CODE\n",
    "#====================================================#"
   ]
  },
  {
   "cell_type": "markdown",
   "metadata": {},
   "source": [
    "Question: Does it look like the plot of a center-out-and-back task?"
   ]
  },
  {
   "cell_type": "markdown",
   "metadata": {},
   "source": [
    "Answer:\n"
   ]
  },
  {
   "cell_type": "markdown",
   "metadata": {},
   "source": [
    "### (f) (1 points) Number of electrodes."
   ]
  },
  {
   "cell_type": "markdown",
   "metadata": {},
   "source": [
    "The R-struct contains neural data recorded from electrode arrays implanted in Monkey J's motor cortex.\n",
    "\n",
    "We'll only consider `R[i]['spikeRaster']`, which is an $N \\times T_i$ matrix of activity from primary motor cortex (M1).\n",
    "\n",
    "(There is an `R[i]['spikeRaster2']`, which we will ignore. It contains activity from PMd.)\n",
    "\n",
    "There are $N$ electrodes, and each electrode is measuring spiking activity. Each row of `R[i]['spikeRaster']` corresponds to the spiking activity, at millisecond resolution, for Monkey J. If the value of row $n$ and column $t$ is 1, then it indicates that a neuron spiked on electrode $n$ at time $t$. If the value of this entry is 0, it indicates that no spike occurred on electrode $n$ at time $t$.\n",
    "\n",
    "Note that we store `R[i]['spikeRaster']` as a sparse matrix, since a neuron is often not spiking (corresponding to $0$'s).\n",
    "\n",
    "It is more memory efficient to store the locations of the non-zero values in the matrix than to store the entire matrix.\n",
    "\n",
    "In Python, one may use the command `.todense()` to make this a standard matrix.\n",
    "\n",
    "How many electrode channels are there?         "
   ]
  },
  {
   "cell_type": "code",
   "execution_count": null,
   "metadata": {},
   "outputs": [],
   "source": [
    "#====================================================#\n",
    "# YOUR CODE HERE:\n",
    "#   Calculate the number of electrode channels\n",
    "#====================================================#\n",
    "pass\n",
    "#====================================================#\n",
    "# END YOUR CODE\n",
    "#====================================================#"
   ]
  },
  {
   "cell_type": "markdown",
   "metadata": {},
   "source": [
    "Question: How many electrode channels are there?     "
   ]
  },
  {
   "cell_type": "markdown",
   "metadata": {},
   "source": [
    "Answer:"
   ]
  },
  {
   "cell_type": "markdown",
   "metadata": {},
   "source": [
    "### (g) (4 points) Spike raster. [Code solution provided; please understand it]"
   ]
  },
  {
   "cell_type": "markdown",
   "metadata": {},
   "source": [
    "Plot a spike raster of all reaches to the right target, located at (120 mm,0 mm), for electrode 17.          \n",
    "(Hint: use the `nsp.PlotSpikeRaster` function in `nsp.py`.)     "
   ]
  },
  {
   "cell_type": "code",
   "execution_count": null,
   "metadata": {},
   "outputs": [],
   "source": [
    "#====================================================#\n",
    "# YOUR CODE HERE:\n",
    "#  Generate spike raster of all reaches to the right target\n",
    "#====================================================#\n",
    "spike_train = np.empty((0,0),dtype = list)\n",
    "f = 0\n",
    "for i in range(trial_num):\n",
    "    target = R[i]['target'][0:2]    \n",
    "    if target[0]==120 and target[1]== 0 :\n",
    "        spike_train = np.append(spike_train,0)\n",
    "        spike_train[f] =  R[i]['spikeRaster'][16,:].todense().nonzero()[1]\n",
    "        f = f + 1\n",
    "nsp.PlotSpikeRaster(spike_train)\n",
    "plt.xlabel('Time is ms')\n",
    "plt.ylabel('Neurons')\n",
    "plt.title('Spike Raster')\n",
    "#====================================================#\n",
    "# END YOUR CODE\n",
    "#====================================================#"
   ]
  },
  {
   "cell_type": "markdown",
   "metadata": {},
   "source": [
    "### (h) (4 points) ISI distribution."
   ]
  },
  {
   "cell_type": "markdown",
   "metadata": {},
   "source": [
    "Plot the ISI distribution for electrode 17 across all trials in the R-dict (i.e., one ISI histogram with data from all reaches).  \n",
    "Make the ISI histogram bins $10$ ms wide. Did we spike sort this neural data?"
   ]
  },
  {
   "cell_type": "code",
   "execution_count": null,
   "metadata": {},
   "outputs": [],
   "source": [
    "#====================================================#\n",
    "# YOUR CODE HERE:\n",
    "#   Generate the ISI distribution for electrode 17\n",
    "#====================================================#\n",
    "pass\n",
    "#====================================================#\n",
    "# END YOUR CODE\n",
    "#====================================================#"
   ]
  },
  {
   "cell_type": "markdown",
   "metadata": {},
   "source": [
    "Question: Did we spike sort this neural data?"
   ]
  },
  {
   "cell_type": "markdown",
   "metadata": {},
   "source": [
    "Answer:    \n"
   ]
  },
  {
   "cell_type": "markdown",
   "metadata": {},
   "source": [
    "### (i) (4 points) PSTH."
   ]
  },
  {
   "cell_type": "markdown",
   "metadata": {},
   "source": [
    "Plot the average firing rate for each of 8 unique peripheral reach directions for electrode 17.\n",
    "\n",
    "To do so, we have provided a binning function, `nsp.bin` which takes a spike raster matrix and counts the spikes in non-overlapping windows of some length $\\Delta t$ (to be specified as an input) for each neuron.\n",
    "\n",
    "Do the following: \n",
    "* Call `nsp.bin` in the correct way to bin the spikes in non-overlapping $25$ ms bins.\n",
    "* Then, for each of the $8$ unique center-out reach conditions, average the binned spike counts for electrode 17, from $t=0$ to $500$ ms.\n",
    "* For each of these traces, smooth them by using smooth function in `nsp.smooth` with `window_len = 5`, i.e., if one of these 8 traces was stored as the variable `trace`, you would call `trace = nsp.smooth(trace, window_len = 5)`.\n",
    "* You should now have 8 traces of averaged binned spike counts for electrode 17.\n",
    "* Plot these average, smoothed, firing rates through time on the same plot (x-axis time in ms, y-axis firing rate; be sure to get the unit scale correct. Use a different color for each of the 8 reach conditions. Note, these trial-averaged plots of the firing rate are often called peri-stimulus time histograms, or PSTHs. We do this to visualize the data and be sure it makes sense."
   ]
  },
  {
   "cell_type": "code",
   "execution_count": null,
   "metadata": {},
   "outputs": [],
   "source": [
    "#====================================================#\n",
    "# YOUR CODE HERE:\n",
    "#   Perform the above described tasks to generate a PSTH.\n",
    "#====================================================#\n",
    "pass\n",
    "#====================================================#\n",
    "# END YOUR CODE\n",
    "#====================================================#"
   ]
  }
 ],
 "metadata": {
  "kernelspec": {
   "display_name": "Python 3",
   "language": "python",
   "name": "python3"
  },
  "language_info": {
   "codemirror_mode": {
    "name": "ipython",
    "version": 3
   },
   "file_extension": ".py",
   "mimetype": "text/x-python",
   "name": "python",
   "nbconvert_exporter": "python",
   "pygments_lexer": "ipython3",
   "version": "3.6.4"
  }
 },
 "nbformat": 4,
 "nbformat_minor": 2
}
