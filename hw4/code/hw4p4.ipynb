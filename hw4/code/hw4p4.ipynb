{
 "cells": [
  {
   "cell_type": "markdown",
   "metadata": {},
   "source": [
    "## Homework 4, Problem 4 Classification on real data\n",
    "\n",
    "ECE C143A/C243A, Spring Quarter 2018, Prof. J.C. Kao, TAs T. Monsoor, X. Jiang and X. Yang"
   ]
  },
  {
   "cell_type": "markdown",
   "metadata": {},
   "source": [
    "## Background\n",
    "Neural prosthetic systems can be built based on classifying neural activity related to planning. As described in class, this is analogous to mapping patterns of neural activity to keys on a keyboard.\n",
    "In this problem, we will apply the results of Problems 1 and 2 to real neural data. The neural data were recorded using a 100-electrode array in premotor cortex of a macaque monkey1. The dataset can be found on CCLE as `ps4_realdata.mat`.\n",
    "\n",
    "The following describes the data format. The `.mat` file is loaded into Python as a dictionary with two keys: `train_trial` contains the training data and `test_trial` contains the test data. Each of these contains spike trains recorded simultaneously from 97 neurons while the monkey reached 91 times along each of 8 different reaching angles.\n",
    "\n",
    "The spike train recorded from the $i_{th}$ neuron on the $n_{th}$ trial of the $k_{th}$ reaching angle is accessed as \n",
    "\n",
    "`data['train_trial'][n,k][1][i,:]`\n",
    "\n",
    "where n = 0,...,90, k = 0,...,7, and i = 0, . . . , 96.  The [1] in between [n,k] and [i,:] does not mean anything for this assignment and is simply an \"artifact\" of how the data is structured. A spike train is represented as a sequence of zeros and ones, where time is discretized in 1 ms steps. A zero indicates that the neuron did not spike in the 1 ms bin, whereas a one indicates that the neuron spiked once in the 1 ms bin. The structure test trial has the same format as train trial.\n",
    "\n",
    "Each spike train is 700 ms long (and thus represented by an array of length 700).  This comprises a 200ms baseline period (before the reach target turned on), a 500ms planning period (after the reach target turned on).  Because it takes time for information about the reach target to arrive in premotor cortex (due to the time required for action potentials to propagate and for visual processing), we will ignore the first 150ms of the planning period.  *** FOR THIS PROBLEM, we will take spike counts for each neuron within a single 200ms bin starting 150ms after the reach target turns on. ***\n",
    "\n",
    "In other words, to calculate firing rates, you will calculate it over the 200ms window: \n",
    "\n",
    "`data['train_trial'][n,k][1][i,350:550]`"
   ]
  },
  {
   "cell_type": "code",
   "execution_count": 17,
   "metadata": {},
   "outputs": [
    {
     "name": "stdout",
     "output_type": "stream",
     "text": [
      "The autoreload extension is already loaded. To reload it, use:\n",
      "  %reload_ext autoreload\n"
     ]
    }
   ],
   "source": [
    "from __future__ import division\n",
    "from scipy.misc import factorial\n",
    "import numpy as np\n",
    "import numpy.matlib as npm\n",
    "import matplotlib.pyplot as plt\n",
    "import scipy.special\n",
    "import scipy.io as sio\n",
    "import math\n",
    "\n",
    "data = sio.loadmat('ps4_realdata.mat') # load the .mat file.\n",
    "NumTrainData = data['train_trial'].shape[0]\n",
    "NumClass = data['train_trial'].shape[1]\n",
    "NumTestData = data['test_trial'].shape[0]\n",
    "\n",
    "# Reloading any code written in external .py files.\n",
    "%load_ext autoreload\n",
    "%autoreload 2"
   ]
  },
  {
   "cell_type": "markdown",
   "metadata": {},
   "source": [
    "### (a) (8 points) \n",
    "Fit the ML parameters of model i) to the training data (91 × 8 observations of a length 97 array of neuron firing rates). \n",
    "\n",
    "To calculate the firing rates, use a single 200ms bin starting from 150ms after the target turns on.  This corresponds to using `data['train_trial'][n,k][1][i, 350:550]` to calculate all firing rates.  This corresponds to a 200ms window that turns on 150ms after the reach turns on.\n",
    "\n",
    "Then, use these parameters to classify the test data (91 × 8 data points) according to the decision rule (1). What is the percent of test data points correctly classified?"
   ]
  },
  {
   "cell_type": "code",
   "execution_count": 33,
   "metadata": {},
   "outputs": [
    {
     "name": "stdout",
     "output_type": "stream",
     "text": [
      "0.960164835165\n"
     ]
    }
   ],
   "source": [
    "##4a\n",
    "\n",
    "# Calculate the firing rates.\n",
    "\n",
    "trainDataArr =  np.zeros((NumClass,NumTrainData,97)) # contains the firing rates for all neurons on all 8 x 91 trials in the training set\n",
    "testDataArr =  np.zeros((NumClass,NumTestData,97)) # for the testing set.\n",
    "\n",
    "for classIX in range(NumClass):\n",
    "    for trainDataIX in range(NumTrainData):   \n",
    "        trainDataArr[classIX,trainDataIX,:] = np.sum(data['train_trial'][trainDataIX,classIX][1][:,350:550],1)\n",
    "    for testDataIX in range(NumTestData):        \n",
    "        testDataArr[classIX,testDataIX,:]=np.sum(data['test_trial'][testDataIX,classIX][1][:,350:550],1)\n",
    "#====================================================#\n",
    "# YOUR CODE HERE:\n",
    "#   Fit the ML parameters of model i) to training data\n",
    "#====================================================#\n",
    "NumFea = np.shape ( trainDataArr)\n",
    "actLabel= np.matlib.repmat(np.arange(NumClass).reshape(-1, 1),1,NumTestData)\n",
    "\n",
    "modParam= {}\n",
    "modParam['pi'] = 1.0/8.0\n",
    "modParam['mean'] = np.zeros([8,97])\n",
    "\n",
    "modParam['cov'] = np.zeros([8,97,97])\n",
    "for classIX in range(NumClass):\n",
    "    modParam['mean'][classIX] = np.mean(trainDataArr[classIX],axis=0)\n",
    "    modParam['cov'][classIX] = np.cov(trainDataArr[classIX].T)\n",
    "Tcovariance=np.sum(modParam['cov'],axis=0)/8\n",
    "\n",
    "pred = []\n",
    "for testclassIX in range(NumClass):\n",
    "    for testDataIX in range(NumTestData):\n",
    "        dec = []\n",
    "        for classIX in range(NumClass):\n",
    "            mean1 = modParam['mean'][classIX]\n",
    "            Z = np.exp(-(np.matmul(np.matmul(testDataArr[testclassIX,testDataIX]-mean1,np.linalg.inv(Tcovariance)),\\\n",
    "                (testDataArr[testclassIX,testDataIX]-mean1).T))/2)/(np.sqrt(np.linalg.det(Tcovariance))*((2*np.pi)**(97/2)))\n",
    "            dec.append(Z)\n",
    "        \n",
    "        if np.argmax(dec)==testclassIX:\n",
    "            pred.append(1)\n",
    "        else:\n",
    "            pred.append(0)\n",
    "\n",
    "print(sum(pred)/len(pred))\n",
    "\n",
    "\n",
    "#====================================================#\n",
    "# YOUR CODE HERE:\n",
    "#   Classify the test data and print the accuracy\n",
    "#====================================================#\n",
    "\n",
    "#====================================================#\n",
    "# END YOUR CODE\n",
    "#====================================================# \n"
   ]
  },
  {
   "cell_type": "markdown",
   "metadata": {},
   "source": [
    "#### Question:\n",
    "What is the percent of test data points correctly classified?"
   ]
  },
  {
   "cell_type": "markdown",
   "metadata": {},
   "source": [
    "#### Your answer: \n",
    "0.960164835165"
   ]
  },
  {
   "cell_type": "markdown",
   "metadata": {},
   "source": [
    "### (b) (6 points) \n",
    "Repeat part (a) for model ii). You `should encounter a Python error` when classifying the test data. What is this error? Why did the Python error occur? What would we need to do to correct this error?\n",
    "\n",
    "To be concrete, the output of this cell should be a `Python error` and that's all fine.  But we want you to understand what the error is so we can fix it later.\n"
   ]
  },
  {
   "cell_type": "code",
   "execution_count": 35,
   "metadata": {},
   "outputs": [
    {
     "name": "stderr",
     "output_type": "stream",
     "text": [
      "C:\\ProgramData\\Anaconda2\\envs\\py2\\lib\\site-packages\\ipykernel\\__main__.py:14: RuntimeWarning: divide by zero encountered in double_scalars\n",
      "C:\\ProgramData\\Anaconda2\\envs\\py2\\lib\\site-packages\\ipykernel\\__main__.py:14: RuntimeWarning: invalid value encountered in double_scalars\n"
     ]
    },
    {
     "name": "stdout",
     "output_type": "stream",
     "text": [
      "0.0782967032967\n"
     ]
    }
   ],
   "source": [
    "##4b\n",
    "\n",
    "#====================================================#\n",
    "# YOUR CODE HERE:\n",
    "# Fit the ML parameters of model ii) to training data\n",
    "#====================================================#\n",
    "pred = []\n",
    "for testclassIX in range(NumClass):\n",
    "    for testDataIX in range(NumTestData):\n",
    "        dec = []\n",
    "        for classIX in range(NumClass):\n",
    "            mean1 = modParam1['mean'][classIX]\n",
    "            co = modParam['cov'][classIX]\n",
    "            Z = np.exp(-(np.matmul(np.matmul(testDataArr[testclassIX,testDataIX]-mean1,np.linalg.pinv(co)),\\\n",
    "                (testDataArr[testclassIX,testDataIX]-mean1).T))/2)/(np.sqrt(np.linalg.det(co))*((2*np.pi)**(97/2)))\n",
    "            dec.append(Z)\n",
    "        \n",
    "        if np.argmax(dec)==testclassIX:\n",
    "            pred.append(1)\n",
    "        else:\n",
    "            pred.append(0)\n",
    "\n",
    "print(sum(pred)/len(pred))\n",
    "#====================================================#\n",
    "# END YOUR CODE\n",
    "#====================================================# \n"
   ]
  },
  {
   "cell_type": "markdown",
   "metadata": {},
   "source": [
    "#### Question:\n",
    "Why did the python error occur? What would we need to do to correct this error?"
   ]
  },
  {
   "cell_type": "markdown",
   "metadata": {},
   "source": [
    "#### Your answer:  \n",
    "Covariance matrix was singular for some class. So I used the pseudo inverse method np.linalg.pinv.But the determinant of singular matrix is zero,which can not be dominator. It might be helpful if we delete some bad data to make the covariance invertable."
   ]
  },
  {
   "cell_type": "markdown",
   "metadata": {},
   "source": [
    "### (c) (8 points) \n",
    "Correct the problem from part (b) by detecting and then removing offending neurons that cause the error. Now, what is the percent of test data points correctly classified? Is it higher or lower than your answer to part (a)? Why might this be?"
   ]
  },
  {
   "cell_type": "code",
   "execution_count": 68,
   "metadata": {},
   "outputs": [
    {
     "name": "stdout",
     "output_type": "stream",
     "text": [
      "(87L,)\n"
     ]
    },
    {
     "name": "stderr",
     "output_type": "stream",
     "text": [
      "C:\\ProgramData\\Anaconda2\\envs\\py2\\lib\\site-packages\\ipykernel\\__main__.py:9: DeprecationWarning: using a non-integer array as obj in delete will result in an error in the future\n"
     ]
    }
   ],
   "source": [
    "a=np.sum(trainDataArr,axis=1)\n",
    "#print(np.where(a > 0.0)[1])\n",
    "offending=[]\n",
    "for classIX in range(NumClass):\n",
    "    x = np.sum(trainDataArr[classIX],axis=0)\n",
    "    offending=np.append(offending,np.where(x == 0.0))\n",
    "offending=np.unique(offending)\n",
    "keep=np.arange(97)\n",
    "keep=np.delete(keep,offending)\n",
    "print(np.shape(keep))\n",
    "#     trainArr = trainDataArr[classIX,:,keep]\n",
    "#     testArr = testDataArr[classIX,:,keep]\n"
   ]
  },
  {
   "cell_type": "code",
   "execution_count": 73,
   "metadata": {},
   "outputs": [
    {
     "name": "stderr",
     "output_type": "stream",
     "text": [
      "C:\\ProgramData\\Anaconda2\\envs\\py2\\lib\\site-packages\\ipykernel\\__main__.py:15: DeprecationWarning: using a non-integer array as obj in delete will result in an error in the future\n"
     ]
    },
    {
     "name": "stdout",
     "output_type": "stream",
     "text": [
      "0.440934065934\n"
     ]
    }
   ],
   "source": [
    "##4c\n",
    "neuronsToRemove = []\n",
    "#====================================================#\n",
    "# YOUR CODE HERE:\n",
    "#   Detect and then remove the offending neurons, so that \n",
    "#   you no longer run into the bug in part (b).\n",
    "#====================================================#\n",
    "#find affending neurons\n",
    "offending=[]\n",
    "for classIX in range(NumClass):\n",
    "    x = np.sum(trainDataArr[classIX],axis=0)\n",
    "    offending=np.append(offending,np.where(x == 0.0))\n",
    "offending=np.unique(offending)\n",
    "keep=np.arange(97)\n",
    "keep=np.delete(keep,offending)\n",
    "\n",
    "\n",
    "train = trainDataArr[:,:,keep]\n",
    "test = testDataArr[:,:,keep]\n",
    "\n",
    "\n",
    "mean2 = np.zeros([8,87])\n",
    "covariance2 = np.zeros([8,87,87])\n",
    "for classIX in range(NumClass):\n",
    "    mean2[classIX] = np.mean(train[classIX],axis=0)\n",
    "    covariance2[classIX] = np.cov(train[classIX].T)\n",
    "    \n",
    "\n",
    "pred = []\n",
    "for testclassIX in range(NumClass):\n",
    "    for testDataIX in range(NumTestData):\n",
    "        dec = []\n",
    "        for classIX in range(NumClass):\n",
    "            mean =  mean2[classIX]\n",
    "            co =  covariance2[classIX]\n",
    "            t = test[testclassIX,testDataIX]-mean\n",
    "            Z = np.matmul(np.matmul(t,np.linalg.inv(co)),t.T)\n",
    "            Z = -Z/2-np.log(np.linalg.det(co))/2\n",
    "            dec.append(Z)\n",
    "        \n",
    "        if np.argmax(dec)==testclassIX:\n",
    "            pred.append(1)\n",
    "        else:\n",
    "            pred.append(0)\n",
    "\n",
    "print(sum(pred)/len(pred))\n",
    "\n",
    "\n",
    "\n",
    "\n",
    "\n",
    "#====================================================#\n",
    "# END YOUR CODE\n",
    "#====================================================# \n",
    "##\n",
    "#====================================================#\n",
    "# YOUR CODE HERE:\n",
    "# Fit the ML parameters,classify the test data and print the accuracy\n",
    "#====================================================#\n",
    "\n",
    "#====================================================#\n",
    "# END YOUR CODE\n",
    "#====================================================# "
   ]
  },
  {
   "cell_type": "markdown",
   "metadata": {},
   "source": [
    "#### Question:\n",
    "What is the percent of test data points correctly classified? Is it higher or lower than your answer to part (a)? Why might this be?"
   ]
  },
  {
   "cell_type": "markdown",
   "metadata": {},
   "source": [
    "#### Your answer:  \n",
    "0.44. It's lower than the result in part (a). The data for training model in each class is less than those in part (a). \n",
    "Model2 use covariance for each class, noise might affect the model parameter"
   ]
  },
  {
   "cell_type": "markdown",
   "metadata": {},
   "source": [
    "### (d) (8 points) \n",
    "Now we classify using a naive Bayes model. Repeat part (a) for model iii). Keep the convention in part (c), where offending neurons were removed from the anal- ysis."
   ]
  },
  {
   "cell_type": "code",
   "execution_count": 74,
   "metadata": {},
   "outputs": [
    {
     "name": "stderr",
     "output_type": "stream",
     "text": [
      "C:\\ProgramData\\Anaconda2\\envs\\py2\\lib\\site-packages\\ipykernel\\__main__.py:17: DeprecationWarning: `factorial` is deprecated!\n",
      "Importing `factorial` from scipy.misc is deprecated in scipy 1.0.0. Use `scipy.special.factorial` instead.\n"
     ]
    },
    {
     "name": "stdout",
     "output_type": "stream",
     "text": [
      "0.92032967033\n"
     ]
    }
   ],
   "source": [
    "##4d\n",
    "#====================================================#\n",
    "# YOUR CODE HERE:\n",
    "# Fit the ML parameters,classify the test data and print the accuracy\n",
    "#====================================================#\n",
    "\n",
    "\n",
    "pred = []\n",
    "for testclassIX in range(NumClass):\n",
    "    for testDataIX in range(NumTestData):\n",
    "        dec = []\n",
    "        for classIX in range(NumClass):\n",
    "            mean3 =  mean2[classIX]\n",
    "            \n",
    "            Z = 1\n",
    "            for neuronIX in range(87):\n",
    "                Z =Z * mean3[neuronIX]**test[testclassIX,testDataIX][neuronIX]*np.exp(-mean3[neuronIX])\\\n",
    "                /factorial(test[testclassIX,testDataIX][neuronIX])\n",
    "            dec.append(Z)\n",
    "        \n",
    "        if np.argmax(dec)==testclassIX:\n",
    "            pred.append(1)\n",
    "        else:\n",
    "            pred.append(0)\n",
    "\n",
    "print(sum(pred)/len(pred))\n",
    "\n",
    "\n",
    "\n",
    "\n",
    "#====================================================#\n",
    "# END YOUR CODE\n",
    "#====================================================# "
   ]
  },
  {
   "cell_type": "markdown",
   "metadata": {},
   "source": [
    "#### Question:\n",
    "what is the percent of test data points correctly classified? "
   ]
  },
  {
   "cell_type": "markdown",
   "metadata": {},
   "source": [
    "#### Your answer: \n",
    "0.92032967033"
   ]
  }
 ],
 "metadata": {
  "kernelspec": {
   "display_name": "Python [conda env:py2]",
   "language": "python",
   "name": "conda-env-py2-py"
  },
  "language_info": {
   "codemirror_mode": {
    "name": "ipython",
    "version": 2
   },
   "file_extension": ".py",
   "mimetype": "text/x-python",
   "name": "python",
   "nbconvert_exporter": "python",
   "pygments_lexer": "ipython2",
   "version": "2.7.14"
  }
 },
 "nbformat": 4,
 "nbformat_minor": 2
}
